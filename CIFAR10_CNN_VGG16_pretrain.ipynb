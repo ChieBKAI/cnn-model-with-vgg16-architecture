{
 "cells": [
  {
   "cell_type": "code",
   "execution_count": 64,
   "metadata": {},
   "outputs": [],
   "source": [
    "import tensorflow as tf\n",
    "import numpy as np\n",
    "import matplotlib.pyplot as plt\n",
    "from keras.datasets import cifar10\n",
    "from PIL import Image\n"
   ]
  },
  {
   "cell_type": "code",
   "execution_count": 65,
   "metadata": {},
   "outputs": [
    {
     "name": "stdout",
     "output_type": "stream",
     "text": [
      "Training data shape:  (40000, 32, 32, 3)\n"
     ]
    }
   ],
   "source": [
    "# Load the data\n",
    "(X_train, y_train), (X_test, y_test) = cifar10.load_data()\n",
    "X_val, y_val = X_train[40000:50000,:], y_train[40000:50000]\n",
    "X_train, y_train = X_train[:40000,:], y_train[:40000]\n",
    "print(\"Training data shape: \", X_train.shape)"
   ]
  },
  {
   "cell_type": "code",
   "execution_count": 66,
   "metadata": {},
   "outputs": [],
   "source": [
    "# Normalize the data: subtract the mean image\n",
    "mean = np.mean(X_train,axis=(0,1,2))\n",
    "std = np.std(X_train,axis=(0,1,2))"
   ]
  },
  {
   "cell_type": "code",
   "execution_count": 67,
   "metadata": {},
   "outputs": [],
   "source": [
    "# convert image\n",
    "def convert_image(input_path):\n",
    "    img = Image.open(input_path)\n",
    "    rgb_img = img.convert('RGB')\n",
    "    rgb_img = rgb_img.resize((32, 32))\n",
    "    rgb_img = np.array(rgb_img)\n",
    "    rgb_img = rgb_img.reshape(1, 32, 32, 3)\n",
    "    return rgb_img"
   ]
  },
  {
   "cell_type": "code",
   "execution_count": 68,
   "metadata": {},
   "outputs": [],
   "source": [
    "# Load the model\n",
    "model = tf.keras.models.load_model('cifar10_cnn_adv3.h5')\n"
   ]
  },
  {
   "cell_type": "code",
   "execution_count": 79,
   "metadata": {},
   "outputs": [
    {
     "name": "stdout",
     "output_type": "stream",
     "text": [
      "Predict:  dog\n"
     ]
    },
    {
     "data": {
      "image/png": "[encoded data removed]",
      "text/plain": [
       "<Figure size 432x288 with 1 Axes>"
      ]
     },
     "metadata": {
      "needs_background": "light"
     },
     "output_type": "display_data"
    }
   ],
   "source": [
    "# Predict \n",
    "input_path = './test_img.png'\n",
    "classes = ['airplane','automobile','bird','cat','deer','dog','frog','horse','ship','truck']\n",
    "img = convert_image(input_path)\n",
    "pred = model.predict(img, verbose=0)\n",
    "pred = np.argmax(pred,axis = 1)\n",
    "plt.imshow(img[0])\n",
    "print('Predict: ' ,classes[pred[0]])\n",
    "\n"
   ]
  }
 ],
 "metadata": {
  "kernelspec": {
   "display_name": "Python 3",
   "language": "python",
   "name": "python3"
  },
  "language_info": {
   "codemirror_mode": {
    "name": "ipython",
    "version": 3
   },
   "file_extension": ".py",
   "mimetype": "text/x-python",
   "name": "python",
   "nbconvert_exporter": "python",
   "pygments_lexer": "ipython3",
   "version": "3.10.5"
  },
  "orig_nbformat": 4
 },
 "nbformat": 4,
 "nbformat_minor": 2
}
